{
 "cells": [
  {
   "cell_type": "code",
   "execution_count": 167,
   "metadata": {},
   "outputs": [],
   "source": [
    "import numpy as np\n",
    "import pandas as pd\n",
    "import matplotlib.pyplot as plt\n",
    "%matplotlib inline\n",
    "import warnings\n",
    "warnings.filterwarnings('ignore')\n",
    "from sklearn.ensemble import RandomForestRegressor as RFR\n",
    "from sklearn.model_selection import train_test_split\n",
    "from sklearn.metrics import r2_score as r2"
   ]
  },
  {
   "cell_type": "code",
   "execution_count": 168,
   "metadata": {},
   "outputs": [
    {
     "data": {
      "text/html": [
       "<div>\n",
       "<style scoped>\n",
       "    .dataframe tbody tr th:only-of-type {\n",
       "        vertical-align: middle;\n",
       "    }\n",
       "\n",
       "    .dataframe tbody tr th {\n",
       "        vertical-align: top;\n",
       "    }\n",
       "\n",
       "    .dataframe thead th {\n",
       "        text-align: right;\n",
       "    }\n",
       "</style>\n",
       "<table border=\"1\" class=\"dataframe\">\n",
       "  <thead>\n",
       "    <tr style=\"text-align: right;\">\n",
       "      <th></th>\n",
       "      <th>Id</th>\n",
       "      <th>DistrictId</th>\n",
       "      <th>Rooms</th>\n",
       "      <th>Square</th>\n",
       "      <th>LifeSquare</th>\n",
       "      <th>KitchenSquare</th>\n",
       "      <th>Floor</th>\n",
       "      <th>HouseFloor</th>\n",
       "      <th>HouseYear</th>\n",
       "      <th>Ecology_1</th>\n",
       "      <th>Ecology_2</th>\n",
       "      <th>Ecology_3</th>\n",
       "      <th>Social_1</th>\n",
       "      <th>Social_2</th>\n",
       "      <th>Social_3</th>\n",
       "      <th>Healthcare_1</th>\n",
       "      <th>Helthcare_2</th>\n",
       "      <th>Shops_1</th>\n",
       "      <th>Shops_2</th>\n",
       "      <th>Price</th>\n",
       "    </tr>\n",
       "  </thead>\n",
       "  <tbody>\n",
       "    <tr>\n",
       "      <th>0</th>\n",
       "      <td>14038</td>\n",
       "      <td>35</td>\n",
       "      <td>2.0</td>\n",
       "      <td>47.981561</td>\n",
       "      <td>29.442751</td>\n",
       "      <td>6.0</td>\n",
       "      <td>7</td>\n",
       "      <td>9.0</td>\n",
       "      <td>1969</td>\n",
       "      <td>0.089040</td>\n",
       "      <td>B</td>\n",
       "      <td>B</td>\n",
       "      <td>33</td>\n",
       "      <td>7976</td>\n",
       "      <td>5</td>\n",
       "      <td>NaN</td>\n",
       "      <td>0</td>\n",
       "      <td>11</td>\n",
       "      <td>B</td>\n",
       "      <td>184966.930730</td>\n",
       "    </tr>\n",
       "    <tr>\n",
       "      <th>1</th>\n",
       "      <td>15053</td>\n",
       "      <td>41</td>\n",
       "      <td>3.0</td>\n",
       "      <td>65.683640</td>\n",
       "      <td>40.049543</td>\n",
       "      <td>8.0</td>\n",
       "      <td>7</td>\n",
       "      <td>9.0</td>\n",
       "      <td>1978</td>\n",
       "      <td>0.000070</td>\n",
       "      <td>B</td>\n",
       "      <td>B</td>\n",
       "      <td>46</td>\n",
       "      <td>10309</td>\n",
       "      <td>1</td>\n",
       "      <td>240.0</td>\n",
       "      <td>1</td>\n",
       "      <td>16</td>\n",
       "      <td>B</td>\n",
       "      <td>300009.450063</td>\n",
       "    </tr>\n",
       "    <tr>\n",
       "      <th>2</th>\n",
       "      <td>4765</td>\n",
       "      <td>53</td>\n",
       "      <td>2.0</td>\n",
       "      <td>44.947953</td>\n",
       "      <td>29.197612</td>\n",
       "      <td>0.0</td>\n",
       "      <td>8</td>\n",
       "      <td>12.0</td>\n",
       "      <td>1968</td>\n",
       "      <td>0.049637</td>\n",
       "      <td>B</td>\n",
       "      <td>B</td>\n",
       "      <td>34</td>\n",
       "      <td>7759</td>\n",
       "      <td>0</td>\n",
       "      <td>229.0</td>\n",
       "      <td>1</td>\n",
       "      <td>3</td>\n",
       "      <td>B</td>\n",
       "      <td>220925.908524</td>\n",
       "    </tr>\n",
       "    <tr>\n",
       "      <th>3</th>\n",
       "      <td>5809</td>\n",
       "      <td>58</td>\n",
       "      <td>2.0</td>\n",
       "      <td>53.352981</td>\n",
       "      <td>52.731512</td>\n",
       "      <td>9.0</td>\n",
       "      <td>8</td>\n",
       "      <td>17.0</td>\n",
       "      <td>1977</td>\n",
       "      <td>0.437885</td>\n",
       "      <td>B</td>\n",
       "      <td>B</td>\n",
       "      <td>23</td>\n",
       "      <td>5735</td>\n",
       "      <td>3</td>\n",
       "      <td>1084.0</td>\n",
       "      <td>0</td>\n",
       "      <td>5</td>\n",
       "      <td>B</td>\n",
       "      <td>175616.227217</td>\n",
       "    </tr>\n",
       "    <tr>\n",
       "      <th>4</th>\n",
       "      <td>10783</td>\n",
       "      <td>99</td>\n",
       "      <td>1.0</td>\n",
       "      <td>39.649192</td>\n",
       "      <td>23.776169</td>\n",
       "      <td>7.0</td>\n",
       "      <td>11</td>\n",
       "      <td>12.0</td>\n",
       "      <td>1976</td>\n",
       "      <td>0.012339</td>\n",
       "      <td>B</td>\n",
       "      <td>B</td>\n",
       "      <td>35</td>\n",
       "      <td>5776</td>\n",
       "      <td>1</td>\n",
       "      <td>2078.0</td>\n",
       "      <td>2</td>\n",
       "      <td>4</td>\n",
       "      <td>B</td>\n",
       "      <td>150226.531644</td>\n",
       "    </tr>\n",
       "  </tbody>\n",
       "</table>\n",
       "</div>"
      ],
      "text/plain": [
       "      Id  DistrictId  Rooms     Square  LifeSquare  KitchenSquare  Floor  \\\n",
       "0  14038          35    2.0  47.981561   29.442751            6.0      7   \n",
       "1  15053          41    3.0  65.683640   40.049543            8.0      7   \n",
       "2   4765          53    2.0  44.947953   29.197612            0.0      8   \n",
       "3   5809          58    2.0  53.352981   52.731512            9.0      8   \n",
       "4  10783          99    1.0  39.649192   23.776169            7.0     11   \n",
       "\n",
       "   HouseFloor  HouseYear  Ecology_1 Ecology_2 Ecology_3  Social_1  Social_2  \\\n",
       "0         9.0       1969   0.089040         B         B        33      7976   \n",
       "1         9.0       1978   0.000070         B         B        46     10309   \n",
       "2        12.0       1968   0.049637         B         B        34      7759   \n",
       "3        17.0       1977   0.437885         B         B        23      5735   \n",
       "4        12.0       1976   0.012339         B         B        35      5776   \n",
       "\n",
       "   Social_3  Healthcare_1  Helthcare_2  Shops_1 Shops_2          Price  \n",
       "0         5           NaN            0       11       B  184966.930730  \n",
       "1         1         240.0            1       16       B  300009.450063  \n",
       "2         0         229.0            1        3       B  220925.908524  \n",
       "3         3        1084.0            0        5       B  175616.227217  \n",
       "4         1        2078.0            2        4       B  150226.531644  "
      ]
     },
     "execution_count": 168,
     "metadata": {},
     "output_type": "execute_result"
    }
   ],
   "source": [
    "train = pd.read_csv('train.csv')\n",
    "train.head()"
   ]
  },
  {
   "cell_type": "code",
   "execution_count": 169,
   "metadata": {
    "scrolled": false
   },
   "outputs": [],
   "source": [
    "train_copy = train.copy()"
   ]
  },
  {
   "cell_type": "code",
   "execution_count": 170,
   "metadata": {},
   "outputs": [],
   "source": [
    "def Correct_Square(train_copy):\n",
    "    ID_List = []\n",
    "    ID_List.extend(train_copy.loc[train_copy['LifeSquare'] > train_copy['Square']].index)\n",
    "    for i in ID_List:\n",
    "        if train_copy.loc[i]['LifeSquare'] > -1:\n",
    "            temp = train_copy.loc[i]['LifeSquare']\n",
    "            train_copy.loc[i, 'LifeSquare'] = train_copy.loc[i]['Square']\n",
    "            train_copy.loc[i, 'Square'] = temp\n",
    "    train_copy.loc[train_copy.LifeSquare.isnull(), 'LifeSquare'] = train_copy.loc[train_copy.LifeSquare.isnull(), 'LifeSquare'].fillna(train_copy.Square - (train_copy.Square * 10)/100)\n",
    "    train_copy.loc[train_copy.LifeSquare > (train_copy.loc[train_copy.Rooms, 'LifeSquare'].mean() + 100), 'LifeSquare'] = train_copy.loc[train_copy.Rooms, 'LifeSquare'].mean()\n",
    "    \n",
    "    \n",
    "    \n",
    "    "
   ]
  },
  {
   "cell_type": "code",
   "execution_count": 171,
   "metadata": {},
   "outputs": [],
   "source": [
    "def Correct_floors(train_copy):\n",
    "    ID_List = []\n",
    "    ID_List.extend(train_copy.loc[train_copy['Floor'] > train_copy['HouseFloor']].index)\n",
    "    for i in ID_List:\n",
    "        if train_copy.loc[i]['Floor'] > -1:\n",
    "            temp = train_copy.loc[i]['Floor']\n",
    "            train_copy.loc[i, 'Floor'] = train_copy.loc[i]['HouseFloor']\n",
    "            train_copy.loc[i, 'HouseFloor'] = temp"
   ]
  },
  {
   "cell_type": "code",
   "execution_count": 172,
   "metadata": {},
   "outputs": [],
   "source": [
    "def Correct_other(train_copy):\n",
    "    train_copy.loc[train_copy['HouseYear'] > 2019, 'HouseYear'] = train_copy['HouseYear'].median()\n",
    "    train_copy.loc[train_copy.KitchenSquare > train_copy.Square, 'KitchenSquare'] = train_copy.loc[train_copy.KitchenSquare > train_copy.Square]['Square'] - train_copy.loc[train_copy.KitchenSquare > train_copy.Square]['LifeSquare']\n",
    "    train_copy.loc[train_copy.HouseFloor > 50, 'HouseFloor'] = train_copy.loc[train_copy.HouseFloor > 50]['Floor'].median() + 10\n",
    "    train_copy.loc[(train_copy.Rooms > 5) & (train_copy.loc[train_copy.Rooms > 5]['Square'] < train_copy.loc[train_copy.Rooms == 5]['Square'].mean()), 'Rooms'] = train_copy.loc[train_copy.Rooms]['Rooms'].median() \n",
    "    train_copy.loc[train_copy.Square > (train_copy.loc[train_copy.Rooms, 'Square'].mean() + 100), 'Square'] = train_copy.loc[train_copy.Rooms, 'Square'].mean()\n",
    "    "
   ]
  },
  {
   "cell_type": "code",
   "execution_count": 173,
   "metadata": {},
   "outputs": [],
   "source": [
    "features = ['Id', 'DistrictId', 'Rooms', 'Square', 'LifeSquare', 'KitchenSquare',\n",
    "       'Floor', 'HouseFloor', 'HouseYear', 'Ecology_1', 'Social_1', 'Social_2', 'Social_3', 'Helthcare_2',\n",
    "       'Shops_1']\n",
    "target = ['Price']"
   ]
  },
  {
   "cell_type": "code",
   "execution_count": 174,
   "metadata": {},
   "outputs": [],
   "source": [
    " def prepare_features(train_copy):\n",
    "    Correct_Square(train_copy)\n",
    "    Correct_floors(train_copy)\n",
    "    Correct_other(train_copy)\n",
    "\n"
   ]
  },
  {
   "cell_type": "code",
   "execution_count": 175,
   "metadata": {},
   "outputs": [],
   "source": [
    "prepare_features(train_copy)"
   ]
  },
  {
   "cell_type": "code",
   "execution_count": 176,
   "metadata": {},
   "outputs": [],
   "source": [
    "X_train, X_valid, y_train, y_valid = train_test_split(train_copy[features], train_copy[target], \\\n",
    "                                                      test_size=0.3, random_state=42)"
   ]
  },
  {
   "cell_type": "code",
   "execution_count": 177,
   "metadata": {},
   "outputs": [],
   "source": [
    "model = RFR(n_estimators=5, max_depth=12, random_state=42)"
   ]
  },
  {
   "cell_type": "code",
   "execution_count": 178,
   "metadata": {},
   "outputs": [
    {
     "data": {
      "text/plain": [
       "RandomForestRegressor(bootstrap=True, criterion='mse', max_depth=12,\n",
       "           max_features='auto', max_leaf_nodes=None,\n",
       "           min_impurity_decrease=0.0, min_impurity_split=None,\n",
       "           min_samples_leaf=1, min_samples_split=2,\n",
       "           min_weight_fraction_leaf=0.0, n_estimators=5, n_jobs=None,\n",
       "           oob_score=False, random_state=42, verbose=0, warm_start=False)"
      ]
     },
     "execution_count": 178,
     "metadata": {},
     "output_type": "execute_result"
    }
   ],
   "source": [
    "model.fit(X_train, y_train)"
   ]
  },
  {
   "cell_type": "code",
   "execution_count": 179,
   "metadata": {},
   "outputs": [
    {
     "data": {
      "text/plain": [
       "array([0.01687277, 0.04624536, 0.09021432, 0.40565644, 0.02756244,\n",
       "       0.02194005, 0.01619743, 0.0280142 , 0.0280757 , 0.04264222,\n",
       "       0.09785502, 0.09831768, 0.05871757, 0.00393866, 0.01775015])"
      ]
     },
     "execution_count": 179,
     "metadata": {},
     "output_type": "execute_result"
    }
   ],
   "source": [
    "model.feature_importances_"
   ]
  },
  {
   "cell_type": "code",
   "execution_count": 180,
   "metadata": {},
   "outputs": [],
   "source": [
    " y_pred = model.predict(X_valid)"
   ]
  },
  {
   "cell_type": "code",
   "execution_count": 181,
   "metadata": {},
   "outputs": [
    {
     "data": {
      "text/plain": [
       "0.6656139999109631"
      ]
     },
     "execution_count": 181,
     "metadata": {},
     "output_type": "execute_result"
    }
   ],
   "source": [
    "r2(y_valid, y_pred)"
   ]
  },
  {
   "cell_type": "code",
   "execution_count": 213,
   "metadata": {},
   "outputs": [],
   "source": [
    "def Testing_models():\n",
    "    \n",
    "    r2_value = 0\n",
    "    estimator = 0\n",
    "    depth = 0\n",
    "    \n",
    "    for n_estimators in range(1, 16):\n",
    "        for max_depth in range(1, 25, 2):\n",
    "            model = RFR(n_estimators=n_estimators, max_depth=max_depth, random_state=42)\n",
    "            model.fit(X_train, y_train)\n",
    "            y_pred = model.predict(X_valid)\n",
    "            if r2_value < r2(y_valid, y_pred):\n",
    "                r2_value = r2(y_valid, y_pred)\n",
    "                estimator = n_estimators\n",
    "                depth = max_depth\n",
    "           \n",
    "    \n",
    "    return estimator, depth, r2_value"
   ]
  },
  {
   "cell_type": "code",
   "execution_count": 214,
   "metadata": {},
   "outputs": [],
   "source": [
    "def Testing_models_extended(X_train, X_valid, y_train, y_valid):\n",
    "    \n",
    "    r2_value = 0\n",
    "    estimator = 0\n",
    "    depth = 0\n",
    "    \n",
    "    for n_estimators in range(1, 16):\n",
    "        for max_depth in range(1, 25, 2):\n",
    "            model = RFR(n_estimators=n_estimators, max_depth=max_depth, random_state=42)\n",
    "            model.fit(X_train, y_train)\n",
    "            y_pred = model.predict(X_valid)\n",
    "            if r2_value < r2(y_valid, y_pred):\n",
    "                r2_value = r2(y_valid, y_pred)\n",
    "                estimator = n_estimators\n",
    "                depth = max_depth\n",
    "           \n",
    "    \n",
    "    return estimator, depth, r2_value"
   ]
  },
  {
   "cell_type": "code",
   "execution_count": 215,
   "metadata": {},
   "outputs": [],
   "source": [
    "n_estimator, max_depth, r2_value = Testing_models()"
   ]
  },
  {
   "cell_type": "code",
   "execution_count": 216,
   "metadata": {},
   "outputs": [
    {
     "data": {
      "text/plain": [
       "(15, 13, 0.6949417968553182)"
      ]
     },
     "execution_count": 216,
     "metadata": {},
     "output_type": "execute_result"
    }
   ],
   "source": [
    "n_estimator, max_depth, r2_value"
   ]
  },
  {
   "cell_type": "code",
   "execution_count": 217,
   "metadata": {},
   "outputs": [],
   "source": [
    "best_r2_yet = r2_value"
   ]
  },
  {
   "cell_type": "code",
   "execution_count": 218,
   "metadata": {},
   "outputs": [],
   "source": [
    "final_model = RFR(n_estimators=n_estimator, max_depth=max_depth, random_state=42)"
   ]
  },
  {
   "cell_type": "code",
   "execution_count": 219,
   "metadata": {},
   "outputs": [],
   "source": [
    "from collections import deque\n",
    "test_features = deque()\n"
   ]
  },
  {
   "cell_type": "code",
   "execution_count": 220,
   "metadata": {},
   "outputs": [],
   "source": [
    "\n",
    "def Testing_features(features, best_r2_yet):\n",
    "\n",
    "#     r2_best = -100\n",
    "#     best_feat_list = [None for i in range(len(features))]\n",
    "#     test_features = features.copy()\n",
    "#     final_list = []\n",
    "    \n",
    "    \n",
    "#     for i in range(len(test_features)):\n",
    "        \n",
    "#         best_feat = None\n",
    "        \n",
    "#         for j in range(len(test_features)):\n",
    "            \n",
    "#             if not(test_features[j] in best_feat_list):\n",
    "                \n",
    "#                 best_feat_list[i] = test_features[j]\n",
    "\n",
    "#             else:\n",
    "#                 continue\n",
    "            \n",
    "#             final_model.fit(X_train[best_feat_list[:i+1]], y_train)\n",
    "#             y_pred = final_model.predict(X_valid[best_feat_list[:i+1]])\n",
    "            \n",
    "#             if r2_best < r2(y_valid, y_pred):\n",
    "#                 r2_best = r2(y_valid, y_pred)\n",
    "#                 best_feat = test_features[j]\n",
    "\n",
    "        \n",
    "#         if best_feat != None:\n",
    "# #             print(best_feat, i)\n",
    "#             print(r2_best)\n",
    "#             best_feat_list[i] = best_feat\n",
    "#             final_list.append(best_feat)\n",
    "       \n",
    "        \n",
    "#     return final_list, r2_best\n",
    "\n",
    "\n",
    "# отбор по убыванию\n",
    "\n",
    "    \n",
    "    flag = True\n",
    "    r2_best = 0\n",
    "    test_features = deque(features.copy())\n",
    "    del_list = []\n",
    "    must_del_feat = None\n",
    "    best_r2_yet = best_r2_yet\n",
    "    \n",
    "    while flag:\n",
    "        \n",
    "        for i in range(len(test_features)):\n",
    "            \n",
    "            del_list.append(test_features.pop())\n",
    "            \n",
    "            final_model.fit(X_train[test_features], y_train)\n",
    "            y_pred = final_model.predict(X_valid[test_features])\n",
    "            \n",
    "            if r2_best < r2(y_valid, y_pred):\n",
    "                \n",
    "                r2_best = r2(y_valid, y_pred)\n",
    "                \n",
    "                must_del_feat = del_list[0]\n",
    "                \n",
    "            test_features.appendleft(del_list.pop())\n",
    "        \n",
    "        if best_r2_yet < r2_best:\n",
    "            \n",
    "            best_r2_yet = r2_best\n",
    "            test_features.remove(must_del_feat)\n",
    "            \n",
    "        else:\n",
    "            flag = False\n",
    "                \n",
    "    \n",
    "    \n",
    "    return test_features, best_r2_yet\n",
    "\n",
    "\n",
    "# Тестирование\n",
    "\n",
    "    \n",
    "#     test_features = deque(features.copy())\n",
    "#     del_list = []\n",
    "#     best_r2_yet = best_r2_yet\n",
    "    \n",
    "#     for i in range(len(test_features)):\n",
    "        \n",
    "#         del_list.append(test_features.pop())\n",
    "#         final_model.fit(X_train[test_features], y_train)\n",
    "#         y_pred = final_model.predict(X_valid[test_features])\n",
    "        \n",
    "        \n",
    "#         if best_r2_yet < r2(y_valid, y_pred):\n",
    "            \n",
    "#             print('Yes')\n",
    "            \n",
    "#         else:\n",
    "#             print(best_r2_yet)\n",
    "#             print(r2(y_valid, y_pred))\n",
    "#             print(test_features, len(test_features), del_list[0])\n",
    "        \n",
    "#         test_features.appendleft(del_list.pop())\n",
    "    \n",
    "    \n",
    "    \n",
    "    \n",
    "    \n",
    "    "
   ]
  },
  {
   "cell_type": "code",
   "execution_count": 221,
   "metadata": {},
   "outputs": [
    {
     "data": {
      "text/plain": [
       "(deque(['Id',\n",
       "        'DistrictId',\n",
       "        'Rooms',\n",
       "        'Square',\n",
       "        'KitchenSquare',\n",
       "        'Floor',\n",
       "        'HouseFloor',\n",
       "        'HouseYear',\n",
       "        'Ecology_1',\n",
       "        'Social_1',\n",
       "        'Social_3',\n",
       "        'Helthcare_2',\n",
       "        'Shops_1']),\n",
       " 0.7053912279871515)"
      ]
     },
     "execution_count": 221,
     "metadata": {},
     "output_type": "execute_result"
    }
   ],
   "source": [
    "\n",
    "Testing_features(features, best_r2_yet)\n"
   ]
  },
  {
   "cell_type": "code",
   "execution_count": 222,
   "metadata": {},
   "outputs": [],
   "source": [
    "all_feattures = train_copy[train_copy.columns[:-1]].copy()"
   ]
  },
  {
   "cell_type": "code",
   "execution_count": 223,
   "metadata": {},
   "outputs": [
    {
     "data": {
      "text/html": [
       "<div>\n",
       "<style scoped>\n",
       "    .dataframe tbody tr th:only-of-type {\n",
       "        vertical-align: middle;\n",
       "    }\n",
       "\n",
       "    .dataframe tbody tr th {\n",
       "        vertical-align: top;\n",
       "    }\n",
       "\n",
       "    .dataframe thead th {\n",
       "        text-align: right;\n",
       "    }\n",
       "</style>\n",
       "<table border=\"1\" class=\"dataframe\">\n",
       "  <thead>\n",
       "    <tr style=\"text-align: right;\">\n",
       "      <th></th>\n",
       "      <th>Id</th>\n",
       "      <th>DistrictId</th>\n",
       "      <th>Rooms</th>\n",
       "      <th>Square</th>\n",
       "      <th>LifeSquare</th>\n",
       "      <th>KitchenSquare</th>\n",
       "      <th>Floor</th>\n",
       "      <th>HouseFloor</th>\n",
       "      <th>HouseYear</th>\n",
       "      <th>Ecology_1</th>\n",
       "      <th>Ecology_2</th>\n",
       "      <th>Ecology_3</th>\n",
       "      <th>Social_1</th>\n",
       "      <th>Social_2</th>\n",
       "      <th>Social_3</th>\n",
       "      <th>Healthcare_1</th>\n",
       "      <th>Helthcare_2</th>\n",
       "      <th>Shops_1</th>\n",
       "      <th>Shops_2</th>\n",
       "    </tr>\n",
       "  </thead>\n",
       "  <tbody>\n",
       "    <tr>\n",
       "      <th>0</th>\n",
       "      <td>14038</td>\n",
       "      <td>35</td>\n",
       "      <td>2.0</td>\n",
       "      <td>47.981561</td>\n",
       "      <td>29.442751</td>\n",
       "      <td>6.0</td>\n",
       "      <td>7.0</td>\n",
       "      <td>9.0</td>\n",
       "      <td>1969.0</td>\n",
       "      <td>0.089040</td>\n",
       "      <td>B</td>\n",
       "      <td>B</td>\n",
       "      <td>33</td>\n",
       "      <td>7976</td>\n",
       "      <td>5</td>\n",
       "      <td>NaN</td>\n",
       "      <td>0</td>\n",
       "      <td>11</td>\n",
       "      <td>B</td>\n",
       "    </tr>\n",
       "    <tr>\n",
       "      <th>1</th>\n",
       "      <td>15053</td>\n",
       "      <td>41</td>\n",
       "      <td>3.0</td>\n",
       "      <td>65.683640</td>\n",
       "      <td>40.049543</td>\n",
       "      <td>8.0</td>\n",
       "      <td>7.0</td>\n",
       "      <td>9.0</td>\n",
       "      <td>1978.0</td>\n",
       "      <td>0.000070</td>\n",
       "      <td>B</td>\n",
       "      <td>B</td>\n",
       "      <td>46</td>\n",
       "      <td>10309</td>\n",
       "      <td>1</td>\n",
       "      <td>240.0</td>\n",
       "      <td>1</td>\n",
       "      <td>16</td>\n",
       "      <td>B</td>\n",
       "    </tr>\n",
       "    <tr>\n",
       "      <th>2</th>\n",
       "      <td>4765</td>\n",
       "      <td>53</td>\n",
       "      <td>2.0</td>\n",
       "      <td>44.947953</td>\n",
       "      <td>29.197612</td>\n",
       "      <td>0.0</td>\n",
       "      <td>8.0</td>\n",
       "      <td>12.0</td>\n",
       "      <td>1968.0</td>\n",
       "      <td>0.049637</td>\n",
       "      <td>B</td>\n",
       "      <td>B</td>\n",
       "      <td>34</td>\n",
       "      <td>7759</td>\n",
       "      <td>0</td>\n",
       "      <td>229.0</td>\n",
       "      <td>1</td>\n",
       "      <td>3</td>\n",
       "      <td>B</td>\n",
       "    </tr>\n",
       "    <tr>\n",
       "      <th>3</th>\n",
       "      <td>5809</td>\n",
       "      <td>58</td>\n",
       "      <td>2.0</td>\n",
       "      <td>53.352981</td>\n",
       "      <td>52.731512</td>\n",
       "      <td>9.0</td>\n",
       "      <td>8.0</td>\n",
       "      <td>17.0</td>\n",
       "      <td>1977.0</td>\n",
       "      <td>0.437885</td>\n",
       "      <td>B</td>\n",
       "      <td>B</td>\n",
       "      <td>23</td>\n",
       "      <td>5735</td>\n",
       "      <td>3</td>\n",
       "      <td>1084.0</td>\n",
       "      <td>0</td>\n",
       "      <td>5</td>\n",
       "      <td>B</td>\n",
       "    </tr>\n",
       "    <tr>\n",
       "      <th>4</th>\n",
       "      <td>10783</td>\n",
       "      <td>99</td>\n",
       "      <td>1.0</td>\n",
       "      <td>39.649192</td>\n",
       "      <td>23.776169</td>\n",
       "      <td>7.0</td>\n",
       "      <td>11.0</td>\n",
       "      <td>12.0</td>\n",
       "      <td>1976.0</td>\n",
       "      <td>0.012339</td>\n",
       "      <td>B</td>\n",
       "      <td>B</td>\n",
       "      <td>35</td>\n",
       "      <td>5776</td>\n",
       "      <td>1</td>\n",
       "      <td>2078.0</td>\n",
       "      <td>2</td>\n",
       "      <td>4</td>\n",
       "      <td>B</td>\n",
       "    </tr>\n",
       "  </tbody>\n",
       "</table>\n",
       "</div>"
      ],
      "text/plain": [
       "      Id  DistrictId  Rooms     Square  LifeSquare  KitchenSquare  Floor  \\\n",
       "0  14038          35    2.0  47.981561   29.442751            6.0    7.0   \n",
       "1  15053          41    3.0  65.683640   40.049543            8.0    7.0   \n",
       "2   4765          53    2.0  44.947953   29.197612            0.0    8.0   \n",
       "3   5809          58    2.0  53.352981   52.731512            9.0    8.0   \n",
       "4  10783          99    1.0  39.649192   23.776169            7.0   11.0   \n",
       "\n",
       "   HouseFloor  HouseYear  Ecology_1 Ecology_2 Ecology_3  Social_1  Social_2  \\\n",
       "0         9.0     1969.0   0.089040         B         B        33      7976   \n",
       "1         9.0     1978.0   0.000070         B         B        46     10309   \n",
       "2        12.0     1968.0   0.049637         B         B        34      7759   \n",
       "3        17.0     1977.0   0.437885         B         B        23      5735   \n",
       "4        12.0     1976.0   0.012339         B         B        35      5776   \n",
       "\n",
       "   Social_3  Healthcare_1  Helthcare_2  Shops_1 Shops_2  \n",
       "0         5           NaN            0       11       B  \n",
       "1         1         240.0            1       16       B  \n",
       "2         0         229.0            1        3       B  \n",
       "3         3        1084.0            0        5       B  \n",
       "4         1        2078.0            2        4       B  "
      ]
     },
     "execution_count": 223,
     "metadata": {},
     "output_type": "execute_result"
    }
   ],
   "source": [
    "all_feattures.head()"
   ]
  },
  {
   "cell_type": "code",
   "execution_count": 224,
   "metadata": {},
   "outputs": [],
   "source": [
    "all_feattures = pd.get_dummies(all_feattures)"
   ]
  },
  {
   "cell_type": "code",
   "execution_count": 225,
   "metadata": {},
   "outputs": [],
   "source": [
    "all_feattures.drop('Healthcare_1', axis=1, inplace=True)"
   ]
  },
  {
   "cell_type": "code",
   "execution_count": 226,
   "metadata": {},
   "outputs": [
    {
     "data": {
      "text/plain": [
       "Index(['Id', 'DistrictId', 'Rooms', 'Square', 'LifeSquare', 'KitchenSquare',\n",
       "       'Floor', 'HouseFloor', 'HouseYear', 'Ecology_1', 'Social_1', 'Social_2',\n",
       "       'Social_3', 'Helthcare_2', 'Shops_1', 'Ecology_2_A', 'Ecology_2_B',\n",
       "       'Ecology_3_A', 'Ecology_3_B', 'Shops_2_A', 'Shops_2_B'],\n",
       "      dtype='object')"
      ]
     },
     "execution_count": 226,
     "metadata": {},
     "output_type": "execute_result"
    }
   ],
   "source": [
    "all_feattures.columns"
   ]
  },
  {
   "cell_type": "code",
   "execution_count": 227,
   "metadata": {},
   "outputs": [
    {
     "name": "stdout",
     "output_type": "stream",
     "text": [
      "<class 'pandas.core.frame.DataFrame'>\n",
      "RangeIndex: 10000 entries, 0 to 9999\n",
      "Data columns (total 21 columns):\n",
      "Id               10000 non-null int64\n",
      "DistrictId       10000 non-null int64\n",
      "Rooms            10000 non-null float64\n",
      "Square           10000 non-null float64\n",
      "LifeSquare       10000 non-null float64\n",
      "KitchenSquare    10000 non-null float64\n",
      "Floor            10000 non-null float64\n",
      "HouseFloor       10000 non-null float64\n",
      "HouseYear        10000 non-null float64\n",
      "Ecology_1        10000 non-null float64\n",
      "Social_1         10000 non-null int64\n",
      "Social_2         10000 non-null int64\n",
      "Social_3         10000 non-null int64\n",
      "Helthcare_2      10000 non-null int64\n",
      "Shops_1          10000 non-null int64\n",
      "Ecology_2_A      10000 non-null uint8\n",
      "Ecology_2_B      10000 non-null uint8\n",
      "Ecology_3_A      10000 non-null uint8\n",
      "Ecology_3_B      10000 non-null uint8\n",
      "Shops_2_A        10000 non-null uint8\n",
      "Shops_2_B        10000 non-null uint8\n",
      "dtypes: float64(8), int64(7), uint8(6)\n",
      "memory usage: 1.2 MB\n"
     ]
    }
   ],
   "source": [
    "all_feattures.info()"
   ]
  },
  {
   "cell_type": "code",
   "execution_count": 228,
   "metadata": {},
   "outputs": [
    {
     "data": {
      "text/html": [
       "<div>\n",
       "<style scoped>\n",
       "    .dataframe tbody tr th:only-of-type {\n",
       "        vertical-align: middle;\n",
       "    }\n",
       "\n",
       "    .dataframe tbody tr th {\n",
       "        vertical-align: top;\n",
       "    }\n",
       "\n",
       "    .dataframe thead th {\n",
       "        text-align: right;\n",
       "    }\n",
       "</style>\n",
       "<table border=\"1\" class=\"dataframe\">\n",
       "  <thead>\n",
       "    <tr style=\"text-align: right;\">\n",
       "      <th></th>\n",
       "      <th>Id</th>\n",
       "      <th>DistrictId</th>\n",
       "      <th>Rooms</th>\n",
       "      <th>Square</th>\n",
       "      <th>LifeSquare</th>\n",
       "      <th>KitchenSquare</th>\n",
       "      <th>Floor</th>\n",
       "      <th>HouseFloor</th>\n",
       "      <th>HouseYear</th>\n",
       "      <th>Ecology_1</th>\n",
       "      <th>...</th>\n",
       "      <th>Social_2</th>\n",
       "      <th>Social_3</th>\n",
       "      <th>Helthcare_2</th>\n",
       "      <th>Shops_1</th>\n",
       "      <th>Ecology_2_A</th>\n",
       "      <th>Ecology_2_B</th>\n",
       "      <th>Ecology_3_A</th>\n",
       "      <th>Ecology_3_B</th>\n",
       "      <th>Shops_2_A</th>\n",
       "      <th>Shops_2_B</th>\n",
       "    </tr>\n",
       "  </thead>\n",
       "  <tbody>\n",
       "    <tr>\n",
       "      <th>0</th>\n",
       "      <td>14038</td>\n",
       "      <td>35</td>\n",
       "      <td>2.0</td>\n",
       "      <td>47.981561</td>\n",
       "      <td>29.442751</td>\n",
       "      <td>6.0</td>\n",
       "      <td>7.0</td>\n",
       "      <td>9.0</td>\n",
       "      <td>1969.0</td>\n",
       "      <td>0.089040</td>\n",
       "      <td>...</td>\n",
       "      <td>7976</td>\n",
       "      <td>5</td>\n",
       "      <td>0</td>\n",
       "      <td>11</td>\n",
       "      <td>0</td>\n",
       "      <td>1</td>\n",
       "      <td>0</td>\n",
       "      <td>1</td>\n",
       "      <td>0</td>\n",
       "      <td>1</td>\n",
       "    </tr>\n",
       "    <tr>\n",
       "      <th>1</th>\n",
       "      <td>15053</td>\n",
       "      <td>41</td>\n",
       "      <td>3.0</td>\n",
       "      <td>65.683640</td>\n",
       "      <td>40.049543</td>\n",
       "      <td>8.0</td>\n",
       "      <td>7.0</td>\n",
       "      <td>9.0</td>\n",
       "      <td>1978.0</td>\n",
       "      <td>0.000070</td>\n",
       "      <td>...</td>\n",
       "      <td>10309</td>\n",
       "      <td>1</td>\n",
       "      <td>1</td>\n",
       "      <td>16</td>\n",
       "      <td>0</td>\n",
       "      <td>1</td>\n",
       "      <td>0</td>\n",
       "      <td>1</td>\n",
       "      <td>0</td>\n",
       "      <td>1</td>\n",
       "    </tr>\n",
       "    <tr>\n",
       "      <th>2</th>\n",
       "      <td>4765</td>\n",
       "      <td>53</td>\n",
       "      <td>2.0</td>\n",
       "      <td>44.947953</td>\n",
       "      <td>29.197612</td>\n",
       "      <td>0.0</td>\n",
       "      <td>8.0</td>\n",
       "      <td>12.0</td>\n",
       "      <td>1968.0</td>\n",
       "      <td>0.049637</td>\n",
       "      <td>...</td>\n",
       "      <td>7759</td>\n",
       "      <td>0</td>\n",
       "      <td>1</td>\n",
       "      <td>3</td>\n",
       "      <td>0</td>\n",
       "      <td>1</td>\n",
       "      <td>0</td>\n",
       "      <td>1</td>\n",
       "      <td>0</td>\n",
       "      <td>1</td>\n",
       "    </tr>\n",
       "    <tr>\n",
       "      <th>3</th>\n",
       "      <td>5809</td>\n",
       "      <td>58</td>\n",
       "      <td>2.0</td>\n",
       "      <td>53.352981</td>\n",
       "      <td>52.731512</td>\n",
       "      <td>9.0</td>\n",
       "      <td>8.0</td>\n",
       "      <td>17.0</td>\n",
       "      <td>1977.0</td>\n",
       "      <td>0.437885</td>\n",
       "      <td>...</td>\n",
       "      <td>5735</td>\n",
       "      <td>3</td>\n",
       "      <td>0</td>\n",
       "      <td>5</td>\n",
       "      <td>0</td>\n",
       "      <td>1</td>\n",
       "      <td>0</td>\n",
       "      <td>1</td>\n",
       "      <td>0</td>\n",
       "      <td>1</td>\n",
       "    </tr>\n",
       "    <tr>\n",
       "      <th>4</th>\n",
       "      <td>10783</td>\n",
       "      <td>99</td>\n",
       "      <td>1.0</td>\n",
       "      <td>39.649192</td>\n",
       "      <td>23.776169</td>\n",
       "      <td>7.0</td>\n",
       "      <td>11.0</td>\n",
       "      <td>12.0</td>\n",
       "      <td>1976.0</td>\n",
       "      <td>0.012339</td>\n",
       "      <td>...</td>\n",
       "      <td>5776</td>\n",
       "      <td>1</td>\n",
       "      <td>2</td>\n",
       "      <td>4</td>\n",
       "      <td>0</td>\n",
       "      <td>1</td>\n",
       "      <td>0</td>\n",
       "      <td>1</td>\n",
       "      <td>0</td>\n",
       "      <td>1</td>\n",
       "    </tr>\n",
       "  </tbody>\n",
       "</table>\n",
       "<p>5 rows × 21 columns</p>\n",
       "</div>"
      ],
      "text/plain": [
       "      Id  DistrictId  Rooms     Square  LifeSquare  KitchenSquare  Floor  \\\n",
       "0  14038          35    2.0  47.981561   29.442751            6.0    7.0   \n",
       "1  15053          41    3.0  65.683640   40.049543            8.0    7.0   \n",
       "2   4765          53    2.0  44.947953   29.197612            0.0    8.0   \n",
       "3   5809          58    2.0  53.352981   52.731512            9.0    8.0   \n",
       "4  10783          99    1.0  39.649192   23.776169            7.0   11.0   \n",
       "\n",
       "   HouseFloor  HouseYear  Ecology_1  ...  Social_2  Social_3  Helthcare_2  \\\n",
       "0         9.0     1969.0   0.089040  ...      7976         5            0   \n",
       "1         9.0     1978.0   0.000070  ...     10309         1            1   \n",
       "2        12.0     1968.0   0.049637  ...      7759         0            1   \n",
       "3        17.0     1977.0   0.437885  ...      5735         3            0   \n",
       "4        12.0     1976.0   0.012339  ...      5776         1            2   \n",
       "\n",
       "   Shops_1  Ecology_2_A  Ecology_2_B  Ecology_3_A  Ecology_3_B  Shops_2_A  \\\n",
       "0       11            0            1            0            1          0   \n",
       "1       16            0            1            0            1          0   \n",
       "2        3            0            1            0            1          0   \n",
       "3        5            0            1            0            1          0   \n",
       "4        4            0            1            0            1          0   \n",
       "\n",
       "   Shops_2_B  \n",
       "0          1  \n",
       "1          1  \n",
       "2          1  \n",
       "3          1  \n",
       "4          1  \n",
       "\n",
       "[5 rows x 21 columns]"
      ]
     },
     "execution_count": 228,
     "metadata": {},
     "output_type": "execute_result"
    }
   ],
   "source": [
    "all_feattures.head()"
   ]
  },
  {
   "cell_type": "code",
   "execution_count": 229,
   "metadata": {},
   "outputs": [],
   "source": [
    "# all_X_train, all_X_valid, all_y_train, all_y_valid = train_test_split(all_feattures, train_copy[target], \\\n",
    "#                                                       test_size=0.3, random_state=42)\n",
    "\n",
    "# all_feat_model = RFR(n_estimators=n_estimator, max_depth=max_depth, random_state=42)"
   ]
  },
  {
   "cell_type": "code",
   "execution_count": 230,
   "metadata": {},
   "outputs": [
    {
     "data": {
      "text/plain": [
       "array([2.60920377e-02, 4.99016215e-02, 7.36661163e-02, 3.85562180e-01,\n",
       "       3.47560751e-02, 2.24099842e-02, 2.08768732e-02, 2.99695687e-02,\n",
       "       3.30288031e-02, 4.28184619e-02, 9.95747288e-02, 9.19208694e-02,\n",
       "       6.00650957e-02, 6.80730814e-03, 2.04423163e-02, 2.97470240e-04,\n",
       "       1.20102205e-04, 2.12958846e-04, 6.01388547e-04, 3.89051780e-04,\n",
       "       4.86988399e-04])"
      ]
     },
     "execution_count": 230,
     "metadata": {},
     "output_type": "execute_result"
    }
   ],
   "source": [
    "all_feat_model.fit(all_X_train, all_y_train)\n",
    "all_feat_model.feature_importances_\n"
   ]
  },
  {
   "cell_type": "code",
   "execution_count": 231,
   "metadata": {},
   "outputs": [
    {
     "data": {
      "text/plain": [
       "0.6888321087701919"
      ]
     },
     "execution_count": 231,
     "metadata": {},
     "output_type": "execute_result"
    }
   ],
   "source": [
    "\n",
    "all_y_predict = all_feat_model.predict(all_X_valid)\n",
    "all_r2_best_yet = r2(all_y_valid, all_y_predict)\n",
    "all_r2_best_yet"
   ]
  },
  {
   "cell_type": "code",
   "execution_count": 232,
   "metadata": {},
   "outputs": [],
   "source": [
    "def Test_all_feats(features, best_r2_yet):\n",
    "    flag = True\n",
    "    r2_best = best_r2_yet\n",
    "    test_features = deque(features.copy())\n",
    "    del_list = []\n",
    "    must_del_feat = None\n",
    "    final_list = []\n",
    "    \n",
    "    \n",
    "    while flag:\n",
    "        \n",
    "        for i in range(len(test_features)):\n",
    "            \n",
    "#             del_list.append(test_features.pop())\n",
    "#             all_feat_model.fit(all_X_train[test_features], all_y_train)\n",
    "#             y_pred = all_feat_model.predict(all_X_valid[test_features])\n",
    "            \n",
    "            del_list.append(test_features.pop())\n",
    "            \n",
    "            all_X_train, all_X_valid, all_y_train, all_y_valid = train_test_split(all_feattures[test_features], train_copy[target], \\\n",
    "                                                      test_size=0.3, random_state=42)\n",
    "\n",
    "            all_feat_model = RFR(n_estimators=n_estimator, max_depth=max_depth, random_state=42)\n",
    "    \n",
    "            \n",
    "            \n",
    "            all_feat_model.fit(all_X_train, all_y_train)\n",
    "            \n",
    "            y_pred = all_feat_model.predict(all_X_valid)\n",
    "    \n",
    "    \n",
    "    \n",
    "            \n",
    "            if r2_best < r2(all_y_valid, y_pred):\n",
    "                \n",
    "                r2_best = r2(all_y_valid, y_pred)\n",
    "                \n",
    "                must_del_feat = del_list[0]\n",
    "                \n",
    "                print(r2(all_y_valid, y_pred))\n",
    "                print(len(test_features))\n",
    "                print(test_features)\n",
    "                final_list = test_features.copy()\n",
    "                \n",
    "            test_features.appendleft(del_list.pop())\n",
    "        \n",
    "        if best_r2_yet < r2_best:\n",
    "            \n",
    "            best_r2_yet = r2_best\n",
    "            test_features.remove(must_del_feat)\n",
    "            \n",
    "#             if best_r2_yet == 0.716522622569344:\n",
    "#                 print(test_features)\n",
    "                \n",
    "            \n",
    "        else:\n",
    "            flag = False\n",
    "                \n",
    "#     print(best_r2_yet)\n",
    "#     print(len(test_features))\n",
    "#     print(test_features)\n",
    "    \n",
    "    return final_list, best_r2_yet, len(test_features)"
   ]
  },
  {
   "cell_type": "code",
   "execution_count": 233,
   "metadata": {},
   "outputs": [
    {
     "name": "stdout",
     "output_type": "stream",
     "text": [
      "0.6914946264700401\n",
      "20\n",
      "deque(['Id', 'DistrictId', 'Rooms', 'Square', 'LifeSquare', 'KitchenSquare', 'Floor', 'HouseFloor', 'HouseYear', 'Ecology_1', 'Social_1', 'Social_2', 'Social_3', 'Helthcare_2', 'Shops_1', 'Ecology_2_A', 'Ecology_2_B', 'Ecology_3_A', 'Ecology_3_B', 'Shops_2_A'])\n",
      "0.6949417968553182\n",
      "20\n",
      "deque(['Shops_2_A', 'Shops_2_B', 'Id', 'DistrictId', 'Rooms', 'Square', 'LifeSquare', 'KitchenSquare', 'Floor', 'HouseFloor', 'HouseYear', 'Ecology_1', 'Social_1', 'Social_2', 'Social_3', 'Helthcare_2', 'Shops_1', 'Ecology_2_A', 'Ecology_2_B', 'Ecology_3_A'])\n",
      "0.6954861049100097\n",
      "19\n",
      "deque(['Social_3', 'Helthcare_2', 'Shops_1', 'Ecology_2_A', 'Ecology_2_B', 'Ecology_3_A', 'Shops_2_A', 'Shops_2_B', 'Id', 'DistrictId', 'Rooms', 'Square', 'LifeSquare', 'KitchenSquare', 'Floor', 'HouseFloor', 'HouseYear', 'Ecology_1', 'Social_1'])\n",
      "0.695707935234126\n",
      "19\n",
      "deque(['Social_2', 'Social_3', 'Helthcare_2', 'Shops_1', 'Ecology_2_A', 'Ecology_2_B', 'Ecology_3_A', 'Shops_2_A', 'Shops_2_B', 'Id', 'DistrictId', 'Rooms', 'Square', 'LifeSquare', 'KitchenSquare', 'Floor', 'HouseFloor', 'HouseYear', 'Ecology_1'])\n",
      "0.6957669911252701\n",
      "18\n",
      "deque(['Ecology_2_B', 'Ecology_3_A', 'Shops_2_A', 'Shops_2_B', 'Id', 'DistrictId', 'Rooms', 'Square', 'LifeSquare', 'KitchenSquare', 'Floor', 'HouseFloor', 'HouseYear', 'Ecology_1', 'Social_2', 'Social_3', 'Helthcare_2', 'Shops_1'])\n",
      "0.6963714255202521\n",
      "18\n",
      "deque(['Shops_1', 'Ecology_2_A', 'Ecology_2_B', 'Ecology_3_A', 'Shops_2_A', 'Shops_2_B', 'Id', 'DistrictId', 'Rooms', 'Square', 'LifeSquare', 'KitchenSquare', 'Floor', 'HouseFloor', 'HouseYear', 'Ecology_1', 'Social_2', 'Social_3'])\n",
      "0.7009756308947244\n",
      "18\n",
      "deque(['Social_3', 'Helthcare_2', 'Shops_1', 'Ecology_2_A', 'Ecology_2_B', 'Ecology_3_A', 'Shops_2_A', 'Shops_2_B', 'Id', 'DistrictId', 'Rooms', 'Square', 'LifeSquare', 'KitchenSquare', 'Floor', 'HouseFloor', 'HouseYear', 'Ecology_1'])\n",
      "0.7018654532696876\n",
      "17\n",
      "deque(['KitchenSquare', 'Floor', 'HouseFloor', 'HouseYear', 'Ecology_1', 'Social_3', 'Helthcare_2', 'Shops_1', 'Ecology_2_A', 'Ecology_2_B', 'Ecology_3_A', 'Shops_2_A', 'Shops_2_B', 'Id', 'DistrictId', 'Rooms', 'Square'])\n",
      "0.705375291084507\n",
      "16\n",
      "deque(['Id', 'DistrictId', 'Rooms', 'Square', 'KitchenSquare', 'Floor', 'HouseFloor', 'HouseYear', 'Ecology_1', 'Social_3', 'Helthcare_2', 'Shops_1', 'Ecology_2_A', 'Ecology_2_B', 'Ecology_3_A', 'Shops_2_A'])\n",
      "0.7080016360756528\n",
      "16\n",
      "deque(['Shops_2_B', 'Id', 'DistrictId', 'Rooms', 'Square', 'KitchenSquare', 'Floor', 'HouseFloor', 'HouseYear', 'Ecology_1', 'Social_3', 'Helthcare_2', 'Shops_1', 'Ecology_2_A', 'Ecology_2_B', 'Ecology_3_A'])\n",
      "0.7080786492166949\n",
      "16\n",
      "deque(['Square', 'KitchenSquare', 'Floor', 'HouseFloor', 'HouseYear', 'Ecology_1', 'Social_3', 'Helthcare_2', 'Shops_1', 'Ecology_2_A', 'Ecology_2_B', 'Ecology_3_A', 'Shops_2_A', 'Shops_2_B', 'Id', 'DistrictId'])\n",
      "0.7122313427298941\n",
      "16\n",
      "deque(['DistrictId', 'Rooms', 'Square', 'KitchenSquare', 'Floor', 'HouseFloor', 'HouseYear', 'Ecology_1', 'Social_3', 'Helthcare_2', 'Shops_1', 'Ecology_2_A', 'Ecology_2_B', 'Ecology_3_A', 'Shops_2_A', 'Shops_2_B'])\n",
      "0.7151370436073979\n",
      "15\n",
      "deque(['HouseYear', 'Ecology_1', 'Social_3', 'Helthcare_2', 'Shops_1', 'Ecology_2_A', 'Ecology_2_B', 'Ecology_3_A', 'Shops_2_A', 'Shops_2_B', 'DistrictId', 'Rooms', 'Square', 'KitchenSquare', 'Floor'])\n",
      "0.716411656743237\n",
      "14\n",
      "deque(['DistrictId', 'Rooms', 'Square', 'KitchenSquare', 'Floor', 'HouseYear', 'Ecology_1', 'Social_3', 'Helthcare_2', 'Shops_1', 'Ecology_2_A', 'Ecology_2_B', 'Ecology_3_A', 'Shops_2_A'])\n",
      "0.721864777729562\n",
      "13\n",
      "deque(['Square', 'KitchenSquare', 'Floor', 'HouseYear', 'Ecology_1', 'Social_3', 'Helthcare_2', 'Shops_1', 'Ecology_2_A', 'Ecology_2_B', 'Ecology_3_A', 'Shops_2_A', 'DistrictId'])\n"
     ]
    },
    {
     "data": {
      "text/plain": [
       "deque(['Square',\n",
       "       'KitchenSquare',\n",
       "       'Floor',\n",
       "       'HouseYear',\n",
       "       'Ecology_1',\n",
       "       'Social_3',\n",
       "       'Helthcare_2',\n",
       "       'Shops_1',\n",
       "       'Ecology_2_A',\n",
       "       'Ecology_2_B',\n",
       "       'Ecology_3_A',\n",
       "       'Shops_2_A',\n",
       "       'DistrictId'])"
      ]
     },
     "execution_count": 233,
     "metadata": {},
     "output_type": "execute_result"
    }
   ],
   "source": [
    "optimal_features, R2_score_, feat_list_len = Test_all_feats(all_feattures, all_r2_best_yet)\n",
    "optimal_features"
   ]
  },
  {
   "cell_type": "code",
   "execution_count": 234,
   "metadata": {},
   "outputs": [
    {
     "data": {
      "text/plain": [
       "(0.721864777729562, 13)"
      ]
     },
     "execution_count": 234,
     "metadata": {},
     "output_type": "execute_result"
    }
   ],
   "source": [
    "R2_score_, feat_list_len\n",
    "# (0.716522622569344, 17"
   ]
  },
  {
   "cell_type": "code",
   "execution_count": 235,
   "metadata": {},
   "outputs": [
    {
     "name": "stdout",
     "output_type": "stream",
     "text": [
      "<class 'pandas.core.frame.DataFrame'>\n",
      "RangeIndex: 10000 entries, 0 to 9999\n",
      "Data columns (total 22 columns):\n",
      "Id               10000 non-null int64\n",
      "DistrictId       10000 non-null int64\n",
      "Rooms            10000 non-null float64\n",
      "Square           10000 non-null float64\n",
      "LifeSquare       10000 non-null float64\n",
      "KitchenSquare    10000 non-null float64\n",
      "Floor            10000 non-null float64\n",
      "HouseFloor       10000 non-null float64\n",
      "HouseYear        10000 non-null float64\n",
      "Ecology_1        10000 non-null float64\n",
      "Social_1         10000 non-null int64\n",
      "Social_2         10000 non-null int64\n",
      "Social_3         10000 non-null int64\n",
      "Helthcare_2      10000 non-null int64\n",
      "Shops_1          10000 non-null int64\n",
      "Price            10000 non-null float64\n",
      "Ecology_2_A      10000 non-null uint8\n",
      "Ecology_2_B      10000 non-null uint8\n",
      "Ecology_3_A      10000 non-null uint8\n",
      "Ecology_3_B      10000 non-null uint8\n",
      "Shops_2_A        10000 non-null uint8\n",
      "Shops_2_B        10000 non-null uint8\n",
      "dtypes: float64(9), int64(7), uint8(6)\n",
      "memory usage: 1.3 MB\n"
     ]
    }
   ],
   "source": [
    "train_last_copy = train.copy()\n",
    "train_last_copy = pd.get_dummies(train_last_copy)\n",
    "optimal_features = list(optimal_features)\n",
    "prepare_features(train_last_copy)\n",
    "train_last_copy.drop('Healthcare_1', axis=1, inplace=True)\n",
    "X_train, X_valid, y_train, y_valid = train_test_split(train_last_copy[optimal_features], train_last_copy[target], \\\n",
    "                                                      test_size=0.3, random_state=42)\n",
    "train_last_copy.info()"
   ]
  },
  {
   "cell_type": "code",
   "execution_count": 236,
   "metadata": {},
   "outputs": [],
   "source": [
    "n_estimator, max_depth, r2_value = Testing_models_extended(X_train, X_valid, y_train, y_valid)"
   ]
  },
  {
   "cell_type": "code",
   "execution_count": 237,
   "metadata": {},
   "outputs": [
    {
     "data": {
      "text/plain": [
       "(15, 13, 0.721864777729562)"
      ]
     },
     "execution_count": 237,
     "metadata": {},
     "output_type": "execute_result"
    }
   ],
   "source": [
    "n_estimator, max_depth, r2_value"
   ]
  },
  {
   "cell_type": "code",
   "execution_count": null,
   "metadata": {},
   "outputs": [],
   "source": []
  }
 ],
 "metadata": {
  "kernelspec": {
   "display_name": "Python 3",
   "language": "python",
   "name": "python3"
  },
  "language_info": {
   "codemirror_mode": {
    "name": "ipython",
    "version": 3
   },
   "file_extension": ".py",
   "mimetype": "text/x-python",
   "name": "python",
   "nbconvert_exporter": "python",
   "pygments_lexer": "ipython3",
   "version": "3.7.3"
  }
 },
 "nbformat": 4,
 "nbformat_minor": 2
}
